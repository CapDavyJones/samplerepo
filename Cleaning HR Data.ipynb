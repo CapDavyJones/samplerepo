{
 "cells": [
  {
   "cell_type": "code",
   "execution_count": 1,
   "id": "bf4b04f8-11b2-428d-bee2-5422603f55d1",
   "metadata": {
    "tags": []
   },
   "outputs": [],
   "source": [
    "import pandas as pd\n",
    "import numpy as np"
   ]
  },
  {
   "cell_type": "code",
   "execution_count": 2,
   "id": "3e3b6d0e-dac4-49cd-bd36-4f673de75c8c",
   "metadata": {
    "tags": []
   },
   "outputs": [],
   "source": [
    "df = pd.read_csv(r\"C:\\Users\\Prince\\Desktop\\DataRelated\\messy_HR_data.csv\")"
   ]
  },
  {
   "cell_type": "code",
   "execution_count": 3,
   "id": "6fee55b6-6880-4bd3-9740-28182c37ca9c",
   "metadata": {
    "tags": []
   },
   "outputs": [
    {
     "data": {
      "text/html": [
       "<div>\n",
       "<style scoped>\n",
       "    .dataframe tbody tr th:only-of-type {\n",
       "        vertical-align: middle;\n",
       "    }\n",
       "\n",
       "    .dataframe tbody tr th {\n",
       "        vertical-align: top;\n",
       "    }\n",
       "\n",
       "    .dataframe thead th {\n",
       "        text-align: right;\n",
       "    }\n",
       "</style>\n",
       "<table border=\"1\" class=\"dataframe\">\n",
       "  <thead>\n",
       "    <tr style=\"text-align: right;\">\n",
       "      <th></th>\n",
       "      <th>Name</th>\n",
       "      <th>Age</th>\n",
       "      <th>Salary</th>\n",
       "      <th>Gender</th>\n",
       "      <th>Department</th>\n",
       "      <th>Position</th>\n",
       "      <th>Joining Date</th>\n",
       "      <th>Performance Score</th>\n",
       "      <th>Email</th>\n",
       "      <th>Phone Number</th>\n",
       "    </tr>\n",
       "  </thead>\n",
       "  <tbody>\n",
       "    <tr>\n",
       "      <th>0</th>\n",
       "      <td>grace</td>\n",
       "      <td>25</td>\n",
       "      <td>50000</td>\n",
       "      <td>Male</td>\n",
       "      <td>HR</td>\n",
       "      <td>Manager</td>\n",
       "      <td>April 5, 2018</td>\n",
       "      <td>D</td>\n",
       "      <td>email@example.com</td>\n",
       "      <td>NaN</td>\n",
       "    </tr>\n",
       "    <tr>\n",
       "      <th>1</th>\n",
       "      <td>david</td>\n",
       "      <td>NaN</td>\n",
       "      <td>65000</td>\n",
       "      <td>Female</td>\n",
       "      <td>Finance</td>\n",
       "      <td>Director</td>\n",
       "      <td>2020/02/20</td>\n",
       "      <td>F</td>\n",
       "      <td>user@domain.com</td>\n",
       "      <td>123-456-7890</td>\n",
       "    </tr>\n",
       "    <tr>\n",
       "      <th>2</th>\n",
       "      <td>hannah</td>\n",
       "      <td>35</td>\n",
       "      <td>SIXTY THOUSAND</td>\n",
       "      <td>Female</td>\n",
       "      <td>Sales</td>\n",
       "      <td>Director</td>\n",
       "      <td>01/15/2020</td>\n",
       "      <td>C</td>\n",
       "      <td>email@example.com</td>\n",
       "      <td>098-765-4321</td>\n",
       "    </tr>\n",
       "    <tr>\n",
       "      <th>3</th>\n",
       "      <td>eve</td>\n",
       "      <td>NaN</td>\n",
       "      <td>50000</td>\n",
       "      <td>Female</td>\n",
       "      <td>IT</td>\n",
       "      <td>Manager</td>\n",
       "      <td>April 5, 2018</td>\n",
       "      <td>A</td>\n",
       "      <td>name@company.org</td>\n",
       "      <td></td>\n",
       "    </tr>\n",
       "    <tr>\n",
       "      <th>4</th>\n",
       "      <td>grace</td>\n",
       "      <td>NaN</td>\n",
       "      <td>NAN</td>\n",
       "      <td>Female</td>\n",
       "      <td>Finance</td>\n",
       "      <td>Manager</td>\n",
       "      <td>01/15/2020</td>\n",
       "      <td>F</td>\n",
       "      <td>name@company.org</td>\n",
       "      <td>098-765-4321</td>\n",
       "    </tr>\n",
       "    <tr>\n",
       "      <th>...</th>\n",
       "      <td>...</td>\n",
       "      <td>...</td>\n",
       "      <td>...</td>\n",
       "      <td>...</td>\n",
       "      <td>...</td>\n",
       "      <td>...</td>\n",
       "      <td>...</td>\n",
       "      <td>...</td>\n",
       "      <td>...</td>\n",
       "      <td>...</td>\n",
       "    </tr>\n",
       "    <tr>\n",
       "      <th>995</th>\n",
       "      <td>jack</td>\n",
       "      <td>50</td>\n",
       "      <td>65000</td>\n",
       "      <td>Female</td>\n",
       "      <td>HR</td>\n",
       "      <td>Manager</td>\n",
       "      <td>2020/02/20</td>\n",
       "      <td>F</td>\n",
       "      <td>NaN</td>\n",
       "      <td>098-765-4321</td>\n",
       "    </tr>\n",
       "    <tr>\n",
       "      <th>996</th>\n",
       "      <td>jack</td>\n",
       "      <td>thirty</td>\n",
       "      <td>50000</td>\n",
       "      <td>Male</td>\n",
       "      <td>Finance</td>\n",
       "      <td>Analyst</td>\n",
       "      <td>April 5, 2018</td>\n",
       "      <td>C</td>\n",
       "      <td>NaN</td>\n",
       "      <td>555-555-5555</td>\n",
       "    </tr>\n",
       "    <tr>\n",
       "      <th>997</th>\n",
       "      <td>hannah</td>\n",
       "      <td>thirty</td>\n",
       "      <td>70000</td>\n",
       "      <td>Male</td>\n",
       "      <td>IT</td>\n",
       "      <td>Assistant</td>\n",
       "      <td>01/15/2020</td>\n",
       "      <td>D</td>\n",
       "      <td>user@domain.com</td>\n",
       "      <td>NaN</td>\n",
       "    </tr>\n",
       "    <tr>\n",
       "      <th>998</th>\n",
       "      <td>bob</td>\n",
       "      <td>25</td>\n",
       "      <td>65000</td>\n",
       "      <td>Other</td>\n",
       "      <td>Marketing</td>\n",
       "      <td>Manager</td>\n",
       "      <td>April 5, 2018</td>\n",
       "      <td>D</td>\n",
       "      <td>email@example.com</td>\n",
       "      <td>NaN</td>\n",
       "    </tr>\n",
       "    <tr>\n",
       "      <th>999</th>\n",
       "      <td>ivy</td>\n",
       "      <td>thirty</td>\n",
       "      <td>SIXTY THOUSAND</td>\n",
       "      <td>Male</td>\n",
       "      <td>Finance</td>\n",
       "      <td>Manager</td>\n",
       "      <td>2020/02/20</td>\n",
       "      <td>C</td>\n",
       "      <td>user@domain.com</td>\n",
       "      <td>123-456-7890</td>\n",
       "    </tr>\n",
       "  </tbody>\n",
       "</table>\n",
       "<p>1000 rows × 10 columns</p>\n",
       "</div>"
      ],
      "text/plain": [
       "         Name     Age          Salary  Gender Department   Position  \\\n",
       "0      grace       25           50000    Male         HR    Manager   \n",
       "1      david      NaN           65000  Female    Finance   Director   \n",
       "2     hannah       35  SIXTY THOUSAND  Female      Sales   Director   \n",
       "3        eve      NaN           50000  Female         IT    Manager   \n",
       "4      grace      NaN            NAN   Female    Finance    Manager   \n",
       "..        ...     ...             ...     ...        ...        ...   \n",
       "995     jack       50           65000  Female         HR    Manager   \n",
       "996     jack   thirty           50000    Male    Finance    Analyst   \n",
       "997   hannah   thirty           70000    Male         IT  Assistant   \n",
       "998      bob       25           65000   Other  Marketing    Manager   \n",
       "999      ivy   thirty  SIXTY THOUSAND    Male    Finance    Manager   \n",
       "\n",
       "      Joining Date Performance Score              Email  Phone Number  \n",
       "0    April 5, 2018                 D  email@example.com           NaN  \n",
       "1       2020/02/20                 F    user@domain.com  123-456-7890  \n",
       "2       01/15/2020                 C  email@example.com  098-765-4321  \n",
       "3    April 5, 2018                 A   name@company.org                \n",
       "4       01/15/2020                 F   name@company.org  098-765-4321  \n",
       "..             ...               ...                ...           ...  \n",
       "995     2020/02/20                 F                NaN  098-765-4321  \n",
       "996  April 5, 2018                 C                NaN  555-555-5555  \n",
       "997     01/15/2020                 D    user@domain.com           NaN  \n",
       "998  April 5, 2018                 D  email@example.com           NaN  \n",
       "999     2020/02/20                 C    user@domain.com  123-456-7890  \n",
       "\n",
       "[1000 rows x 10 columns]"
      ]
     },
     "execution_count": 3,
     "metadata": {},
     "output_type": "execute_result"
    }
   ],
   "source": [
    "df"
   ]
  },
  {
   "cell_type": "code",
   "execution_count": 4,
   "id": "c0847931-1988-4db1-8fc7-885b0a5f75d5",
   "metadata": {
    "tags": []
   },
   "outputs": [],
   "source": [
    "# Strip leading and trailing spaces from string columns \n",
    "for column in df.select_dtypes(include=['object']).columns: \n",
    "    df[column] = df[column].str.strip() "
   ]
  },
  {
   "cell_type": "code",
   "execution_count": 5,
   "id": "959ec456-457a-430d-b212-cbd2f898a04b",
   "metadata": {
    "tags": []
   },
   "outputs": [],
   "source": [
    "# Correct the Age column \n",
    "df['Age'] = df['Age'].replace('thirty', 30) \n",
    "df['Age'] = pd.to_numeric(df['Age'], errors='coerce') \n",
    "\n",
    "# Fill NaN values in the Age column before converting to int\n",
    "df['Age'] = df['Age'].fillna(0).round(0).astype(int)  # Remove decimals and convert to int "
   ]
  },
  {
   "cell_type": "code",
   "execution_count": 7,
   "id": "c53deee6-f3a1-4bd2-8c95-c80497390bc5",
   "metadata": {
    "tags": []
   },
   "outputs": [],
   "source": [
    "# Correct the Salary column \n",
    "df['Salary'] = df['Salary'].str.replace('SIXTY THOUSAND', '60000') \n",
    "df['Salary'] = df['Salary'].str.replace(' NAN ', 'NaN') \n",
    "df['Salary'] = pd.to_numeric(df['Salary'], errors='coerce')"
   ]
  },
  {
   "cell_type": "code",
   "execution_count": 9,
   "id": "46e7c084-5033-4ad2-92d8-4c3aad59c5f4",
   "metadata": {
    "tags": []
   },
   "outputs": [],
   "source": [
    " # Standardise the Joining Date column \n",
    "df['Joining Date'] = pd.to_datetime(df['Joining Date'], errors='coerce')"
   ]
  },
  {
   "cell_type": "code",
   "execution_count": 11,
   "id": "d1b038c3-1de1-461f-9e3c-72a67663929b",
   "metadata": {
    "tags": []
   },
   "outputs": [],
   "source": [
    "# Fill NaN values with a default value or strategy \n",
    "df['Age'].fillna(df['Age'].mean(), inplace=True) \n",
    "df['Salary'].fillna(df['Salary'].mean(), inplace=True) \n",
    " \n",
    " # Fill NaN values for categorical columns \n",
    "df['Gender'].fillna('Unknown', inplace=True) \n",
    "df['Department'].fillna(df['Department'].mode()[0], inplace=True) \n",
    "df['Position'].fillna(df['Position'].mode()[0], inplace=True) \n",
    "df['Performance Score'].fillna('Unknown', inplace=True) \n",
    "df['Email'].fillna('no_email@example.com', inplace=True) \n",
    "df['Phone Number'].fillna('000-000-0000', inplace=True) "
   ]
  },
  {
   "cell_type": "code",
   "execution_count": 12,
   "id": "ff07d245-f5da-44bf-b19f-c1754d47b66b",
   "metadata": {
    "tags": []
   },
   "outputs": [],
   "source": [
    "# Save the cleaned data to a new CSV file \n",
    "df.to_csv('cleaned_HR_data.csv', index=False) "
   ]
  },
  {
   "cell_type": "code",
   "execution_count": null,
   "id": "b6dd92dd-9f4f-44be-a05b-9d5e299d32ff",
   "metadata": {},
   "outputs": [],
   "source": []
  }
 ],
 "metadata": {
  "kernelspec": {
   "display_name": "Python 3 (ipykernel)",
   "language": "python",
   "name": "python3"
  },
  "language_info": {
   "codemirror_mode": {
    "name": "ipython",
    "version": 3
   },
   "file_extension": ".py",
   "mimetype": "text/x-python",
   "name": "python",
   "nbconvert_exporter": "python",
   "pygments_lexer": "ipython3",
   "version": "3.11.5"
  }
 },
 "nbformat": 4,
 "nbformat_minor": 5
}
